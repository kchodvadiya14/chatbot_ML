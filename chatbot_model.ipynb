{
 "cells": [
  {
   "cell_type": "code",
   "execution_count": 27,
   "id": "7a1eb91b-a0c1-4478-8edb-88aa13b9a4bf",
   "metadata": {},
   "outputs": [
    {
     "ename": "KeyError",
     "evalue": "'intent'",
     "output_type": "error",
     "traceback": [
      "\u001b[1;31m---------------------------------------------------------------------------\u001b[0m",
      "\u001b[1;31mKeyError\u001b[0m                                  Traceback (most recent call last)",
      "Cell \u001b[1;32mIn[27], line 50\u001b[0m\n\u001b[0;32m     48\u001b[0m \u001b[38;5;66;03m# Run the chatbot\u001b[39;00m\n\u001b[0;32m     49\u001b[0m \u001b[38;5;28;01mif\u001b[39;00m \u001b[38;5;18m__name__\u001b[39m \u001b[38;5;241m==\u001b[39m \u001b[38;5;124m\"\u001b[39m\u001b[38;5;124m__main__\u001b[39m\u001b[38;5;124m\"\u001b[39m:\n\u001b[1;32m---> 50\u001b[0m     main()\n",
      "Cell \u001b[1;32mIn[27], line 33\u001b[0m, in \u001b[0;36mmain\u001b[1;34m()\u001b[0m\n\u001b[0;32m     32\u001b[0m \u001b[38;5;28;01mdef\u001b[39;00m \u001b[38;5;21mmain\u001b[39m():\n\u001b[1;32m---> 33\u001b[0m     responses \u001b[38;5;241m=\u001b[39m load_responses(\u001b[38;5;124m\"\u001b[39m\u001b[38;5;124mintents.json\u001b[39m\u001b[38;5;124m\"\u001b[39m)  \u001b[38;5;66;03m# Updated to use structured JSON\u001b[39;00m\n\u001b[0;32m     35\u001b[0m     \u001b[38;5;28;01mif\u001b[39;00m \u001b[38;5;129;01mnot\u001b[39;00m responses:\n\u001b[0;32m     36\u001b[0m         \u001b[38;5;28mprint\u001b[39m(\u001b[38;5;124m\"\u001b[39m\u001b[38;5;124mChatbot: Unable to start due to missing or invalid responses.\u001b[39m\u001b[38;5;124m\"\u001b[39m)\n",
      "Cell \u001b[1;32mIn[27], line 10\u001b[0m, in \u001b[0;36mload_responses\u001b[1;34m(json_file)\u001b[0m\n\u001b[0;32m      8\u001b[0m         intents \u001b[38;5;241m=\u001b[39m json\u001b[38;5;241m.\u001b[39mload(file)\n\u001b[0;32m      9\u001b[0m     \u001b[38;5;66;03m# Convert list of intents into a dictionary for easier access\u001b[39;00m\n\u001b[1;32m---> 10\u001b[0m     \u001b[38;5;28;01mreturn\u001b[39;00m {intent[\u001b[38;5;124m\"\u001b[39m\u001b[38;5;124mintent\u001b[39m\u001b[38;5;124m\"\u001b[39m]: intent[\u001b[38;5;124m\"\u001b[39m\u001b[38;5;124mresponse\u001b[39m\u001b[38;5;124m\"\u001b[39m] \u001b[38;5;28;01mfor\u001b[39;00m intent \u001b[38;5;129;01min\u001b[39;00m intents}\n\u001b[0;32m     11\u001b[0m \u001b[38;5;28;01mexcept\u001b[39;00m \u001b[38;5;167;01mFileNotFoundError\u001b[39;00m:\n\u001b[0;32m     12\u001b[0m     \u001b[38;5;28mprint\u001b[39m(\u001b[38;5;124m\"\u001b[39m\u001b[38;5;124mError: JSON file not found.\u001b[39m\u001b[38;5;124m\"\u001b[39m)\n",
      "\u001b[1;31mKeyError\u001b[0m: 'intent'"
     ]
    }
   ],
   "source": [
    "import json\n",
    "from difflib import get_close_matches\n",
    "\n",
    "# Load responses from the structured intents JSON file\n",
    "def load_responses(json_file):\n",
    "    try:\n",
    "        with open(json_file, \"r\") as file:\n",
    "            intents = json.load(file)\n",
    "        # Convert list of intents into a dictionary for easier access\n",
    "        return {intent[\"intent\"]: intent[\"response\"] for intent in intents}\n",
    "    except FileNotFoundError:\n",
    "        print(\"Error: JSON file not found.\")\n",
    "        return {}\n",
    "\n",
    "# Get the best response with fuzzy matching\n",
    "def chatbot_response(user_input, responses):\n",
    "    user_input = user_input.lower()\n",
    "    \n",
    "    # Check for an exact match\n",
    "    if user_input in responses:\n",
    "        return responses[user_input]\n",
    "    \n",
    "    # Check for close matches\n",
    "    matches = get_close_matches(user_input, responses.keys(), n=1, cutoff=0.6)\n",
    "    if matches:\n",
    "        return responses[matches[0]]\n",
    "    \n",
    "    # Default response if no match found\n",
    "    return \"I'm sorry, I don't understand that. Can you rephrase?\"\n",
    "\n",
    "# Main chatbot loop\n",
    "def main():\n",
    "    responses = load_responses(\"intents.json\")  # Updated to use structured JSON\n",
    "    \n",
    "    if not responses:\n",
    "        print(\"Chatbot: Unable to start due to missing or invalid responses.\")\n",
    "        return\n",
    "    \n",
    "    print(\"Chatbot: Hello! I'm your chatbot. Type 'bye' to exit.\")\n",
    "    while True:\n",
    "        user_input = input(\"You: \")\n",
    "        if user_input.lower() == \"bye\":\n",
    "            print(\"Chatbot: Goodbye! Have a wonderful day!\")\n",
    "            break\n",
    "        response = chatbot_response(user_input, responses)\n",
    "        print(f\"Chatbot: {response}\")\n",
    "\n",
    "# Run the chatbot\n",
    "if __name__ == \"__main__\":\n",
    "    main()\n"
   ]
  },
  {
   "cell_type": "code",
   "execution_count": 31,
   "id": "67033a30-0174-4d12-a2c7-7ecb4c75f748",
   "metadata": {},
   "outputs": [
    {
     "name": "stdout",
     "output_type": "stream",
     "text": [
      "Chatbot: Hello! I'm your chatbot. Type 'bye' to exit.\n"
     ]
    },
    {
     "name": "stdin",
     "output_type": "stream",
     "text": [
      "You:  Hi\n"
     ]
    },
    {
     "name": "stdout",
     "output_type": "stream",
     "text": [
      "Chatbot: I'm sorry, I don't understand that. Can you rephrase?\n"
     ]
    },
    {
     "name": "stdin",
     "output_type": "stream",
     "text": [
      "You:  Hey\n"
     ]
    },
    {
     "name": "stdout",
     "output_type": "stream",
     "text": [
      "Chatbot: I'm sorry, I don't understand that. Can you rephrase?\n"
     ]
    },
    {
     "name": "stdin",
     "output_type": "stream",
     "text": [
      "You:  bye\n"
     ]
    },
    {
     "name": "stdout",
     "output_type": "stream",
     "text": [
      "Chatbot: Goodbye! Have a wonderful day!\n"
     ]
    }
   ],
   "source": [
    "# Load responses from a text file\n",
    "def load_responses(txt_file):\n",
    "    responses = {}\n",
    "    try:\n",
    "        with open(txt_file, \"r\") as file:\n",
    "            for line in file:\n",
    "                if \":\" in line:  # Check if the line contains a key-value pair\n",
    "                    key, value = line.strip().split(\":\", 1)  # Split by the first colon\n",
    "                    responses[key.strip().lower()] = value.strip()\n",
    "    except FileNotFoundError:\n",
    "        print(\"Error: Text file not found.\")\n",
    "    return responses\n",
    "\n",
    "# Get chatbot response\n",
    "def chatbot_response(user_input, responses):\n",
    "    user_input = user_input.lower()\n",
    "    return responses.get(user_input, \"I'm sorry, I don't understand that. Can you rephrase?\")\n",
    "\n",
    "# Main chatbot loop\n",
    "def main():\n",
    "    responses = load_responses(\"intents [MConverter.eu].txt\")  # Replace with your text file name\n",
    "    \n",
    "    if not responses:\n",
    "        print(\"Chatbot: Unable to start due to missing or invalid responses.\")\n",
    "        return\n",
    "    \n",
    "    print(\"Chatbot: Hello! I'm your chatbot. Type 'bye' to exit.\")\n",
    "    while True:\n",
    "        user_input = input(\"You: \")\n",
    "        if user_input.lower() == \"bye\":\n",
    "            print(\"Chatbot: Goodbye! Have a wonderful day!\")\n",
    "            break\n",
    "        response = chatbot_response(user_input, responses)\n",
    "        print(f\"Chatbot: {response}\")\n",
    "\n",
    "# Run the chatbot\n",
    "if __name__ == \"__main__\":\n",
    "    main()\n"
   ]
  },
  {
   "cell_type": "code",
   "execution_count": 33,
   "id": "50b03764-3c6a-493e-9fc0-a742a136eb9b",
   "metadata": {},
   "outputs": [
    {
     "name": "stdout",
     "output_type": "stream",
     "text": [
      "Chatbot: Hi! How can I help you? (Type 'quit' to exit)\n"
     ]
    },
    {
     "name": "stdin",
     "output_type": "stream",
     "text": [
      "You:  Hi\n"
     ]
    },
    {
     "name": "stdout",
     "output_type": "stream",
     "text": [
      "Chatbot: Hey\n"
     ]
    },
    {
     "name": "stdin",
     "output_type": "stream",
     "text": [
      "You:  Hello\n"
     ]
    },
    {
     "name": "stdout",
     "output_type": "stream",
     "text": [
      "Chatbot: Hi there\n"
     ]
    },
    {
     "name": "stdin",
     "output_type": "stream",
     "text": [
      "You:  What's your name?\n"
     ]
    },
    {
     "name": "stdout",
     "output_type": "stream",
     "text": [
      "Chatbot: I'm sorry, I don't understand that.\n"
     ]
    },
    {
     "name": "stdin",
     "output_type": "stream",
     "text": [
      "You:  What are you\n"
     ]
    },
    {
     "name": "stdout",
     "output_type": "stream",
     "text": [
      "Chatbot: I am a chatbot\n"
     ]
    },
    {
     "name": "stdin",
     "output_type": "stream",
     "text": [
      "You:  quit\n"
     ]
    },
    {
     "name": "stdout",
     "output_type": "stream",
     "text": [
      "Chatbot: Goodbye!\n"
     ]
    }
   ],
   "source": [
    "import json\n",
    "import random\n",
    "import re\n",
    "\n",
    "# Load intents from the file\n",
    "def load_intents(file_path):\n",
    "    with open(file_path, \"r\") as file:\n",
    "        return json.load(file)\n",
    "\n",
    "# Match user input to patterns in intents\n",
    "def match_intent(user_input, intents):\n",
    "    for intent in intents:\n",
    "        for pattern in intent[\"patterns\"]:\n",
    "            if re.fullmatch(pattern.lower(), user_input.lower()):\n",
    "                return intent\n",
    "    return None\n",
    "\n",
    "# Main chatbot function\n",
    "def chatbot():\n",
    "    intents = load_intents(\"intents.json\")  # Replace with the name of your file\n",
    "    print(\"Chatbot: Hi! How can I help you? (Type 'quit' to exit)\")\n",
    "    \n",
    "    while True:\n",
    "        user_input = input(\"You: \").strip()\n",
    "        if user_input.lower() == \"quit\":\n",
    "            print(\"Chatbot: Goodbye!\")\n",
    "            break\n",
    "        \n",
    "        matched_intent = match_intent(user_input, intents)\n",
    "        if matched_intent:\n",
    "            response = random.choice(matched_intent[\"responses\"])\n",
    "            print(f\"Chatbot: {response}\")\n",
    "        else:\n",
    "            print(\"Chatbot: I'm sorry, I don't understand that.\")\n",
    "\n",
    "if __name__ == \"__main__\":\n",
    "    chatbot()\n"
   ]
  },
  {
   "cell_type": "code",
   "execution_count": null,
   "id": "b4f23b39-a08a-4641-b749-5705a58feea5",
   "metadata": {},
   "outputs": [],
   "source": []
  }
 ],
 "metadata": {
  "kernelspec": {
   "display_name": "Python [conda env:base] *",
   "language": "python",
   "name": "conda-base-py"
  },
  "language_info": {
   "codemirror_mode": {
    "name": "ipython",
    "version": 3
   },
   "file_extension": ".py",
   "mimetype": "text/x-python",
   "name": "python",
   "nbconvert_exporter": "python",
   "pygments_lexer": "ipython3",
   "version": "3.12.7"
  }
 },
 "nbformat": 4,
 "nbformat_minor": 5
}
