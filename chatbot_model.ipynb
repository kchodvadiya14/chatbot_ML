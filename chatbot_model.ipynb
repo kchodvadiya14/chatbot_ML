{
 "cells": [
  {
   "cell_type": "code",
   "execution_count": 35,
   "id": "50b03764-3c6a-493e-9fc0-a742a136eb9b",
   "metadata": {},
   "outputs": [
    {
     "name": "stdout",
     "output_type": "stream",
     "text": [
      "Chatbot: Hi! How can I help you? (Type 'quit' to exit)\n"
     ]
    },
    {
     "name": "stdin",
     "output_type": "stream",
     "text": [
      "You:  hii\n"
     ]
    },
    {
     "name": "stdout",
     "output_type": "stream",
     "text": [
      "Chatbot: I'm sorry, I don't understand that.\n"
     ]
    },
    {
     "name": "stdin",
     "output_type": "stream",
     "text": [
      "You:  Hi\n"
     ]
    },
    {
     "name": "stdout",
     "output_type": "stream",
     "text": [
      "Chatbot: Nothing much\n"
     ]
    },
    {
     "name": "stdin",
     "output_type": "stream",
     "text": [
      "You:  Hello\n"
     ]
    },
    {
     "name": "stdout",
     "output_type": "stream",
     "text": [
      "Chatbot: Hey\n"
     ]
    },
    {
     "name": "stdin",
     "output_type": "stream",
     "text": [
      "You:  quit\n"
     ]
    },
    {
     "name": "stdout",
     "output_type": "stream",
     "text": [
      "Chatbot: Goodbye!\n"
     ]
    }
   ],
   "source": [
    "import json\n",
    "import random\n",
    "import re\n",
    "\n",
    "# Load intents from the file\n",
    "def load_intents(file_path):\n",
    "    with open(file_path, \"r\") as file:\n",
    "        return json.load(file)\n",
    "\n",
    "# Match user input to patterns in intents\n",
    "def match_intent(user_input, intents):\n",
    "    for intent in intents:\n",
    "        for pattern in intent[\"patterns\"]:\n",
    "            if re.fullmatch(pattern.lower(), user_input.lower()):\n",
    "                return intent\n",
    "    return None\n",
    "\n",
    "# Main chatbot function\n",
    "def chatbot():\n",
    "    intents = load_intents(\"intents.json\")  # Replace with the name of your file\n",
    "    print(\"Chatbot: Hi! How can I help you? (Type 'quit' to exit)\")\n",
    "    \n",
    "    while True:\n",
    "        user_input = input(\"You: \").strip()\n",
    "        if user_input.lower() == \"quit\":\n",
    "            print(\"Chatbot: Goodbye!\")\n",
    "            break\n",
    "        \n",
    "        matched_intent = match_intent(user_input, intents)\n",
    "        if matched_intent:\n",
    "            response = random.choice(matched_intent[\"responses\"])\n",
    "            print(f\"Chatbot: {response}\")\n",
    "        else:\n",
    "            print(\"Chatbot: I'm sorry, I don't understand that.\")\n",
    "\n",
    "if __name__ == \"__main__\":\n",
    "    chatbot()\n"
   ]
  },
  {
   "cell_type": "code",
   "execution_count": null,
   "id": "4eb61874-69d5-4cc9-9f22-a0c5cf947537",
   "metadata": {},
   "outputs": [],
   "source": []
  }
 ],
 "metadata": {
  "kernelspec": {
   "display_name": "Python [conda env:base] *",
   "language": "python",
   "name": "conda-base-py"
  },
  "language_info": {
   "codemirror_mode": {
    "name": "ipython",
    "version": 3
   },
   "file_extension": ".py",
   "mimetype": "text/x-python",
   "name": "python",
   "nbconvert_exporter": "python",
   "pygments_lexer": "ipython3",
   "version": "3.12.7"
  }
 },
 "nbformat": 4,
 "nbformat_minor": 5
}
